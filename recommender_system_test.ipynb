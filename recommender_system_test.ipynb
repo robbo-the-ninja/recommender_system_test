{
 "cells": [
  {
   "cell_type": "markdown",
   "metadata": {},
   "source": [
    "# Test A/B `recommender_system_test`\n",
    "## Descripción de los objetivos del estudio\n",
    "En este análisis y prueba A/B vamos comprobar si hubo una mejor conversión tras la introducción de un sistema de recomendaciones mejorado para una tienda online. Tenemos datos de una prueba A/B inconclusa. El equipo que la lanzó afirmó que la conversión en cada etapa del embudo aumento por lo menos un 10%. \n",
    "\n",
    "Éstas son nuestras tareas:\n",
    "\n",
    " - Comprobar si la prueba A/B fue realizada correctamente.\n",
    " - Comprobar si en verdad hubo un aumento de al menos 10% en cada parte del embudo.\n",
    " - Dar conclusiones respecto al análisis y el éxito o fracaso de la prueba. "
   ]
  },
  {
   "cell_type": "markdown",
   "metadata": {},
   "source": [
    "## Limpieza de datos\n",
    "Primero daremos orden a los datos. Tenemos cuatro tablas. Las describiré brevemente:\n",
    " - `ab_project_marketing_events_us.csv`: el calendario de eventos de marketing para 2020.\n",
    " - `final_ab_new_users_upd_us.csv`: todos los usuarios que se registraron en la tienda en línea desde el 7 hasta el 21 de diciembre de 2020.\n",
    " - `final_ab_events_upd_us.csv`: todos los eventos de los nuevos usuarios en el período comprendido entre el 7 de diciembre de 2020 y el 1 de enero de 2021.\n",
    " - `final_ab_participants_upd_us.csv`: tabla con los datos de los participantes de la prueba."
   ]
  },
  {
   "cell_type": "markdown",
   "metadata": {},
   "source": [
    "### Primera tabla\n",
    "Analicemos el calendario de eventos de marketing para 2020 (`ab_project_marketing_events_us.csv`)."
   ]
  },
  {
   "cell_type": "code",
   "execution_count": 1,
   "metadata": {},
   "outputs": [
    {
     "data": {
      "text/html": [
       "<div>\n",
       "<style scoped>\n",
       "    .dataframe tbody tr th:only-of-type {\n",
       "        vertical-align: middle;\n",
       "    }\n",
       "\n",
       "    .dataframe tbody tr th {\n",
       "        vertical-align: top;\n",
       "    }\n",
       "\n",
       "    .dataframe thead th {\n",
       "        text-align: right;\n",
       "    }\n",
       "</style>\n",
       "<table border=\"1\" class=\"dataframe\">\n",
       "  <thead>\n",
       "    <tr style=\"text-align: right;\">\n",
       "      <th></th>\n",
       "      <th>name</th>\n",
       "      <th>regions</th>\n",
       "      <th>start_dt</th>\n",
       "      <th>finish_dt</th>\n",
       "    </tr>\n",
       "  </thead>\n",
       "  <tbody>\n",
       "    <tr>\n",
       "      <th>0</th>\n",
       "      <td>Christmas&amp;New Year Promo</td>\n",
       "      <td>EU, N.America</td>\n",
       "      <td>2020-12-25</td>\n",
       "      <td>2021-01-03</td>\n",
       "    </tr>\n",
       "    <tr>\n",
       "      <th>1</th>\n",
       "      <td>St. Valentine's Day Giveaway</td>\n",
       "      <td>EU, CIS, APAC, N.America</td>\n",
       "      <td>2020-02-14</td>\n",
       "      <td>2020-02-16</td>\n",
       "    </tr>\n",
       "    <tr>\n",
       "      <th>2</th>\n",
       "      <td>St. Patric's Day Promo</td>\n",
       "      <td>EU, N.America</td>\n",
       "      <td>2020-03-17</td>\n",
       "      <td>2020-03-19</td>\n",
       "    </tr>\n",
       "  </tbody>\n",
       "</table>\n",
       "</div>"
      ],
      "text/plain": [
       "                           name                   regions    start_dt  \\\n",
       "0      Christmas&New Year Promo             EU, N.America  2020-12-25   \n",
       "1  St. Valentine's Day Giveaway  EU, CIS, APAC, N.America  2020-02-14   \n",
       "2        St. Patric's Day Promo             EU, N.America  2020-03-17   \n",
       "\n",
       "    finish_dt  \n",
       "0  2021-01-03  \n",
       "1  2020-02-16  \n",
       "2  2020-03-19  "
      ]
     },
     "metadata": {},
     "output_type": "display_data"
    },
    {
     "name": "stdout",
     "output_type": "stream",
     "text": [
      "<class 'pandas.core.frame.DataFrame'>\n",
      "RangeIndex: 14 entries, 0 to 13\n",
      "Data columns (total 4 columns):\n",
      " #   Column     Non-Null Count  Dtype \n",
      "---  ------     --------------  ----- \n",
      " 0   name       14 non-null     object\n",
      " 1   regions    14 non-null     object\n",
      " 2   start_dt   14 non-null     object\n",
      " 3   finish_dt  14 non-null     object\n",
      "dtypes: object(4)\n",
      "memory usage: 576.0+ bytes\n"
     ]
    }
   ],
   "source": [
    "import pandas as pd\n",
    "marketing_events = pd.read_csv('/datasets/ab_project_marketing_events_us.csv')\n",
    "display(marketing_events.head(3))\n",
    "marketing_events.info()"
   ]
  },
  {
   "cell_type": "code",
   "execution_count": 2,
   "metadata": {},
   "outputs": [
    {
     "name": "stdout",
     "output_type": "stream",
     "text": [
      "El número de duplicados es 0.\n"
     ]
    }
   ],
   "source": [
    "print(f'El número de duplicados es {marketing_events.duplicated().sum()}.')"
   ]
  },
  {
   "cell_type": "markdown",
   "metadata": {},
   "source": [
    "No hay nulos ni nada fuera de lugar. El único cambio que haremos será pasar las fechas a un tipo diferente."
   ]
  },
  {
   "cell_type": "code",
   "execution_count": 3,
   "metadata": {},
   "outputs": [
    {
     "name": "stdout",
     "output_type": "stream",
     "text": [
      "<class 'pandas.core.frame.DataFrame'>\n",
      "RangeIndex: 14 entries, 0 to 13\n",
      "Data columns (total 4 columns):\n",
      " #   Column     Non-Null Count  Dtype         \n",
      "---  ------     --------------  -----         \n",
      " 0   name       14 non-null     object        \n",
      " 1   regions    14 non-null     object        \n",
      " 2   start_dt   14 non-null     datetime64[ns]\n",
      " 3   finish_dt  14 non-null     datetime64[ns]\n",
      "dtypes: datetime64[ns](2), object(2)\n",
      "memory usage: 576.0+ bytes\n",
      "None\n"
     ]
    }
   ],
   "source": [
    "# Conversión de columnas a datetime\n",
    "marketing_events['start_dt'] = pd.to_datetime(marketing_events['start_dt'])\n",
    "marketing_events['finish_dt'] = pd.to_datetime(marketing_events['finish_dt'])\n",
    "\n",
    "# Verificación\n",
    "print(marketing_events.info())"
   ]
  },
  {
   "cell_type": "markdown",
   "metadata": {},
   "source": [
    "### Segunda tabla\n",
    "Continuemos con la tabla que contiene los usuarios registrados en la tienda en línea desde el 7 hasta el 21 de diciembre de 2020: `final_ab_new_users_upd_us.csv`"
   ]
  },
  {
   "cell_type": "code",
   "execution_count": 4,
   "metadata": {},
   "outputs": [
    {
     "data": {
      "text/html": [
       "<div>\n",
       "<style scoped>\n",
       "    .dataframe tbody tr th:only-of-type {\n",
       "        vertical-align: middle;\n",
       "    }\n",
       "\n",
       "    .dataframe tbody tr th {\n",
       "        vertical-align: top;\n",
       "    }\n",
       "\n",
       "    .dataframe thead th {\n",
       "        text-align: right;\n",
       "    }\n",
       "</style>\n",
       "<table border=\"1\" class=\"dataframe\">\n",
       "  <thead>\n",
       "    <tr style=\"text-align: right;\">\n",
       "      <th></th>\n",
       "      <th>user_id</th>\n",
       "      <th>first_date</th>\n",
       "      <th>region</th>\n",
       "      <th>device</th>\n",
       "    </tr>\n",
       "  </thead>\n",
       "  <tbody>\n",
       "    <tr>\n",
       "      <th>0</th>\n",
       "      <td>D72A72121175D8BE</td>\n",
       "      <td>2020-12-07</td>\n",
       "      <td>EU</td>\n",
       "      <td>PC</td>\n",
       "    </tr>\n",
       "    <tr>\n",
       "      <th>1</th>\n",
       "      <td>F1C668619DFE6E65</td>\n",
       "      <td>2020-12-07</td>\n",
       "      <td>N.America</td>\n",
       "      <td>Android</td>\n",
       "    </tr>\n",
       "    <tr>\n",
       "      <th>2</th>\n",
       "      <td>2E1BF1D4C37EA01F</td>\n",
       "      <td>2020-12-07</td>\n",
       "      <td>EU</td>\n",
       "      <td>PC</td>\n",
       "    </tr>\n",
       "  </tbody>\n",
       "</table>\n",
       "</div>"
      ],
      "text/plain": [
       "            user_id  first_date     region   device\n",
       "0  D72A72121175D8BE  2020-12-07         EU       PC\n",
       "1  F1C668619DFE6E65  2020-12-07  N.America  Android\n",
       "2  2E1BF1D4C37EA01F  2020-12-07         EU       PC"
      ]
     },
     "metadata": {},
     "output_type": "display_data"
    },
    {
     "name": "stdout",
     "output_type": "stream",
     "text": [
      "<class 'pandas.core.frame.DataFrame'>\n",
      "RangeIndex: 58703 entries, 0 to 58702\n",
      "Data columns (total 4 columns):\n",
      " #   Column      Non-Null Count  Dtype \n",
      "---  ------      --------------  ----- \n",
      " 0   user_id     58703 non-null  object\n",
      " 1   first_date  58703 non-null  object\n",
      " 2   region      58703 non-null  object\n",
      " 3   device      58703 non-null  object\n",
      "dtypes: object(4)\n",
      "memory usage: 1.8+ MB\n"
     ]
    }
   ],
   "source": [
    "import pandas as pd\n",
    "new_users = pd.read_csv('/datasets/final_ab_new_users_upd_us.csv')\n",
    "display(new_users.head(3))\n",
    "new_users.info()"
   ]
  },
  {
   "cell_type": "code",
   "execution_count": 5,
   "metadata": {},
   "outputs": [
    {
     "name": "stdout",
     "output_type": "stream",
     "text": [
      "El número de duplicados es 0.\n"
     ]
    }
   ],
   "source": [
    "print(f'El número de duplicados es {new_users.duplicated().sum()}.')"
   ]
  },
  {
   "cell_type": "markdown",
   "metadata": {},
   "source": [
    "No hay nulos ni dupolicados. Haremos de la columna `first_date` una columna de tipo 'datetime'."
   ]
  },
  {
   "cell_type": "code",
   "execution_count": 6,
   "metadata": {},
   "outputs": [
    {
     "name": "stdout",
     "output_type": "stream",
     "text": [
      "<class 'pandas.core.frame.DataFrame'>\n",
      "RangeIndex: 58703 entries, 0 to 58702\n",
      "Data columns (total 4 columns):\n",
      " #   Column      Non-Null Count  Dtype         \n",
      "---  ------      --------------  -----         \n",
      " 0   user_id     58703 non-null  object        \n",
      " 1   first_date  58703 non-null  datetime64[ns]\n",
      " 2   region      58703 non-null  object        \n",
      " 3   device      58703 non-null  object        \n",
      "dtypes: datetime64[ns](1), object(3)\n",
      "memory usage: 1.8+ MB\n",
      "None\n"
     ]
    }
   ],
   "source": [
    "# Conversión de columnas a datetime\n",
    "new_users['first_date'] = pd.to_datetime(new_users['first_date'])\n",
    "\n",
    "# Verificación\n",
    "print(new_users.info())"
   ]
  },
  {
   "cell_type": "markdown",
   "metadata": {},
   "source": [
    "### Tercera tabla\n",
    "La tabla `final_ab_events_upd_us.csv` contiene los eventos de los usuarios durante el periodo de la prueba. De esta tabla tomaremos la información necesaria para hacer el embudo."
   ]
  },
  {
   "cell_type": "code",
   "execution_count": 7,
   "metadata": {},
   "outputs": [
    {
     "data": {
      "text/html": [
       "<div>\n",
       "<style scoped>\n",
       "    .dataframe tbody tr th:only-of-type {\n",
       "        vertical-align: middle;\n",
       "    }\n",
       "\n",
       "    .dataframe tbody tr th {\n",
       "        vertical-align: top;\n",
       "    }\n",
       "\n",
       "    .dataframe thead th {\n",
       "        text-align: right;\n",
       "    }\n",
       "</style>\n",
       "<table border=\"1\" class=\"dataframe\">\n",
       "  <thead>\n",
       "    <tr style=\"text-align: right;\">\n",
       "      <th></th>\n",
       "      <th>user_id</th>\n",
       "      <th>event_dt</th>\n",
       "      <th>event_name</th>\n",
       "      <th>details</th>\n",
       "    </tr>\n",
       "  </thead>\n",
       "  <tbody>\n",
       "    <tr>\n",
       "      <th>0</th>\n",
       "      <td>E1BDDCE0DAFA2679</td>\n",
       "      <td>2020-12-07 20:22:03</td>\n",
       "      <td>purchase</td>\n",
       "      <td>99.99</td>\n",
       "    </tr>\n",
       "    <tr>\n",
       "      <th>1</th>\n",
       "      <td>7B6452F081F49504</td>\n",
       "      <td>2020-12-07 09:22:53</td>\n",
       "      <td>purchase</td>\n",
       "      <td>9.99</td>\n",
       "    </tr>\n",
       "    <tr>\n",
       "      <th>2</th>\n",
       "      <td>9CD9F34546DF254C</td>\n",
       "      <td>2020-12-07 12:59:29</td>\n",
       "      <td>purchase</td>\n",
       "      <td>4.99</td>\n",
       "    </tr>\n",
       "  </tbody>\n",
       "</table>\n",
       "</div>"
      ],
      "text/plain": [
       "            user_id             event_dt event_name  details\n",
       "0  E1BDDCE0DAFA2679  2020-12-07 20:22:03   purchase    99.99\n",
       "1  7B6452F081F49504  2020-12-07 09:22:53   purchase     9.99\n",
       "2  9CD9F34546DF254C  2020-12-07 12:59:29   purchase     4.99"
      ]
     },
     "metadata": {},
     "output_type": "display_data"
    },
    {
     "name": "stdout",
     "output_type": "stream",
     "text": [
      "<class 'pandas.core.frame.DataFrame'>\n",
      "RangeIndex: 423761 entries, 0 to 423760\n",
      "Data columns (total 4 columns):\n",
      " #   Column      Non-Null Count   Dtype  \n",
      "---  ------      --------------   -----  \n",
      " 0   user_id     423761 non-null  object \n",
      " 1   event_dt    423761 non-null  object \n",
      " 2   event_name  423761 non-null  object \n",
      " 3   details     60314 non-null   float64\n",
      "dtypes: float64(1), object(3)\n",
      "memory usage: 12.9+ MB\n"
     ]
    }
   ],
   "source": [
    "import pandas as pd\n",
    "users_events = pd.read_csv('/datasets/final_ab_events_upd_us.csv')\n",
    "display(users_events.head(3))\n",
    "users_events.info()"
   ]
  },
  {
   "cell_type": "code",
   "execution_count": 8,
   "metadata": {},
   "outputs": [
    {
     "name": "stdout",
     "output_type": "stream",
     "text": [
      "El número de duplicados es 0.\n"
     ]
    }
   ],
   "source": [
    "print(f'El número de duplicados es {users_events.duplicated().sum()}.')"
   ]
  },
  {
   "cell_type": "markdown",
   "metadata": {},
   "source": [
    "Más de lo mismo con las fechas. Solamente vamos a transformar la columna `event_dt` a tipo 'datetime'. Hay datos nulos en la columna `'details'`, pero lo que nos importa en este proyecto es la conversión y el embudo, así que dejaremos los datos como nulos; no tendrá efectos en nuestro análisis."
   ]
  },
  {
   "cell_type": "code",
   "execution_count": 9,
   "metadata": {},
   "outputs": [
    {
     "name": "stdout",
     "output_type": "stream",
     "text": [
      "<class 'pandas.core.frame.DataFrame'>\n",
      "RangeIndex: 423761 entries, 0 to 423760\n",
      "Data columns (total 4 columns):\n",
      " #   Column      Non-Null Count   Dtype         \n",
      "---  ------      --------------   -----         \n",
      " 0   user_id     423761 non-null  object        \n",
      " 1   event_dt    423761 non-null  datetime64[ns]\n",
      " 2   event_name  423761 non-null  object        \n",
      " 3   details     60314 non-null   float64       \n",
      "dtypes: datetime64[ns](1), float64(1), object(2)\n",
      "memory usage: 12.9+ MB\n",
      "None\n"
     ]
    }
   ],
   "source": [
    "# Conversión de columnas a datetime.\n",
    "users_events['event_dt'] = pd.to_datetime(users_events['event_dt'])\n",
    "\n",
    "# Verificación\n",
    "print(users_events.info())"
   ]
  },
  {
   "cell_type": "markdown",
   "metadata": {},
   "source": [
    "### Cuarta tabla\n",
    "Finalmente echemos un vistazo a la tabla `final_ab_participants_upd_us.csv`, que contiene los datos de los participantes de la prueba."
   ]
  },
  {
   "cell_type": "code",
   "execution_count": 10,
   "metadata": {},
   "outputs": [
    {
     "data": {
      "text/html": [
       "<div>\n",
       "<style scoped>\n",
       "    .dataframe tbody tr th:only-of-type {\n",
       "        vertical-align: middle;\n",
       "    }\n",
       "\n",
       "    .dataframe tbody tr th {\n",
       "        vertical-align: top;\n",
       "    }\n",
       "\n",
       "    .dataframe thead th {\n",
       "        text-align: right;\n",
       "    }\n",
       "</style>\n",
       "<table border=\"1\" class=\"dataframe\">\n",
       "  <thead>\n",
       "    <tr style=\"text-align: right;\">\n",
       "      <th></th>\n",
       "      <th>user_id</th>\n",
       "      <th>group</th>\n",
       "      <th>ab_test</th>\n",
       "    </tr>\n",
       "  </thead>\n",
       "  <tbody>\n",
       "    <tr>\n",
       "      <th>0</th>\n",
       "      <td>D1ABA3E2887B6A73</td>\n",
       "      <td>A</td>\n",
       "      <td>recommender_system_test</td>\n",
       "    </tr>\n",
       "    <tr>\n",
       "      <th>1</th>\n",
       "      <td>A7A3664BD6242119</td>\n",
       "      <td>A</td>\n",
       "      <td>recommender_system_test</td>\n",
       "    </tr>\n",
       "    <tr>\n",
       "      <th>2</th>\n",
       "      <td>DABC14FDDFADD29E</td>\n",
       "      <td>A</td>\n",
       "      <td>recommender_system_test</td>\n",
       "    </tr>\n",
       "  </tbody>\n",
       "</table>\n",
       "</div>"
      ],
      "text/plain": [
       "            user_id group                  ab_test\n",
       "0  D1ABA3E2887B6A73     A  recommender_system_test\n",
       "1  A7A3664BD6242119     A  recommender_system_test\n",
       "2  DABC14FDDFADD29E     A  recommender_system_test"
      ]
     },
     "metadata": {},
     "output_type": "display_data"
    },
    {
     "name": "stdout",
     "output_type": "stream",
     "text": [
      "<class 'pandas.core.frame.DataFrame'>\n",
      "RangeIndex: 14525 entries, 0 to 14524\n",
      "Data columns (total 3 columns):\n",
      " #   Column   Non-Null Count  Dtype \n",
      "---  ------   --------------  ----- \n",
      " 0   user_id  14525 non-null  object\n",
      " 1   group    14525 non-null  object\n",
      " 2   ab_test  14525 non-null  object\n",
      "dtypes: object(3)\n",
      "memory usage: 340.6+ KB\n"
     ]
    }
   ],
   "source": [
    "import pandas as pd\n",
    "participants_data = pd.read_csv('/datasets/final_ab_participants_upd_us.csv')\n",
    "display(participants_data.head(3))\n",
    "participants_data.info()"
   ]
  },
  {
   "cell_type": "markdown",
   "metadata": {},
   "source": [
    "No hay nulos y no es necesario cambiar los tipos de datos."
   ]
  },
  {
   "cell_type": "code",
   "execution_count": 11,
   "metadata": {},
   "outputs": [
    {
     "name": "stdout",
     "output_type": "stream",
     "text": [
      "El número de duplicados es 0.\n"
     ]
    }
   ],
   "source": [
    "print(f'El número de duplicados es {participants_data.duplicated().sum()}.')"
   ]
  },
  {
   "cell_type": "code",
   "execution_count": 12,
   "metadata": {},
   "outputs": [
    {
     "data": {
      "text/plain": [
       "3675"
      ]
     },
     "execution_count": 12,
     "metadata": {},
     "output_type": "execute_result"
    }
   ],
   "source": [
    "len(participants_data[participants_data['ab_test'] == 'recommender_system_test'])"
   ]
  },
  {
   "cell_type": "markdown",
   "metadata": {},
   "source": [
    "Tampoco hay duplicados. Las tablas están lista para trabajar sobre ellas."
   ]
  },
  {
   "cell_type": "markdown",
   "metadata": {},
   "source": [
    "### Tabla final\n",
    "Ahora que tenemos tablas con información bien estandarizada, podemos comenzar a analizar el embudo. Vamos a unir tres tablas con base en el identificador del usuario.\n",
    "\n",
    "A `users_events`(que contiene la estampa del evento y su nombre) le agregaremos `participants_data` que incluye el grupo del individuo y la columna `'ab_test'`, donde veremos si se trata de la prueba `recommender_system_test`; sólo añadiremos la información que sea del test que nos interesa, para eso será necesario filtrar. Después, en `new_users`, filtraremos sólo a usuarios de EU con las fechas de inscripción que cubran los 14 días indicados en las instrucciones. Al final uniremos las dos tablas resultantes para tener una tabla final con la información necesaria."
   ]
  },
  {
   "cell_type": "code",
   "execution_count": 13,
   "metadata": {},
   "outputs": [
    {
     "data": {
      "text/html": [
       "<div>\n",
       "<style scoped>\n",
       "    .dataframe tbody tr th:only-of-type {\n",
       "        vertical-align: middle;\n",
       "    }\n",
       "\n",
       "    .dataframe tbody tr th {\n",
       "        vertical-align: top;\n",
       "    }\n",
       "\n",
       "    .dataframe thead th {\n",
       "        text-align: right;\n",
       "    }\n",
       "</style>\n",
       "<table border=\"1\" class=\"dataframe\">\n",
       "  <thead>\n",
       "    <tr style=\"text-align: right;\">\n",
       "      <th></th>\n",
       "      <th>user_id</th>\n",
       "      <th>event_dt</th>\n",
       "      <th>event_name</th>\n",
       "      <th>details</th>\n",
       "      <th>group</th>\n",
       "      <th>ab_test</th>\n",
       "    </tr>\n",
       "  </thead>\n",
       "  <tbody>\n",
       "    <tr>\n",
       "      <th>0</th>\n",
       "      <td>831887FE7F2D6CBA</td>\n",
       "      <td>2020-12-07 06:50:29</td>\n",
       "      <td>purchase</td>\n",
       "      <td>4.99</td>\n",
       "      <td>A</td>\n",
       "      <td>recommender_system_test</td>\n",
       "    </tr>\n",
       "    <tr>\n",
       "      <th>1</th>\n",
       "      <td>831887FE7F2D6CBA</td>\n",
       "      <td>2020-12-09 02:19:17</td>\n",
       "      <td>purchase</td>\n",
       "      <td>99.99</td>\n",
       "      <td>A</td>\n",
       "      <td>recommender_system_test</td>\n",
       "    </tr>\n",
       "    <tr>\n",
       "      <th>2</th>\n",
       "      <td>831887FE7F2D6CBA</td>\n",
       "      <td>2020-12-07 06:50:30</td>\n",
       "      <td>product_cart</td>\n",
       "      <td>NaN</td>\n",
       "      <td>A</td>\n",
       "      <td>recommender_system_test</td>\n",
       "    </tr>\n",
       "  </tbody>\n",
       "</table>\n",
       "</div>"
      ],
      "text/plain": [
       "            user_id            event_dt    event_name  details group  \\\n",
       "0  831887FE7F2D6CBA 2020-12-07 06:50:29      purchase     4.99     A   \n",
       "1  831887FE7F2D6CBA 2020-12-09 02:19:17      purchase    99.99     A   \n",
       "2  831887FE7F2D6CBA 2020-12-07 06:50:30  product_cart      NaN     A   \n",
       "\n",
       "                   ab_test  \n",
       "0  recommender_system_test  \n",
       "1  recommender_system_test  \n",
       "2  recommender_system_test  "
      ]
     },
     "metadata": {},
     "output_type": "display_data"
    },
    {
     "name": "stdout",
     "output_type": "stream",
     "text": [
      "\n",
      "<class 'pandas.core.frame.DataFrame'>\n",
      "Int64Index: 23909 entries, 0 to 23908\n",
      "Data columns (total 6 columns):\n",
      " #   Column      Non-Null Count  Dtype         \n",
      "---  ------      --------------  -----         \n",
      " 0   user_id     23909 non-null  object        \n",
      " 1   event_dt    23909 non-null  datetime64[ns]\n",
      " 2   event_name  23909 non-null  object        \n",
      " 3   details     3210 non-null   float64       \n",
      " 4   group       23909 non-null  object        \n",
      " 5   ab_test     23909 non-null  object        \n",
      "dtypes: datetime64[ns](1), float64(1), object(4)\n",
      "memory usage: 1.3+ MB\n"
     ]
    }
   ],
   "source": [
    "# Primero filtremos con base en el experimento que nos interesa. \n",
    "# Usamos copy() porque reasignamos el resultado a la misma variable.\n",
    "participants_data = participants_data[participants_data['ab_test'] == 'recommender_system_test'].copy()\n",
    "\n",
    "# Ahora sí, vamos a empezar a unir tablas.\n",
    "funnel_data = users_events.merge (participants_data, on = 'user_id', how = 'inner' )\n",
    "\n",
    "# Comprobación.\n",
    "display(funnel_data.head(3))\n",
    "print()\n",
    "funnel_data.info()"
   ]
  },
  {
   "cell_type": "markdown",
   "metadata": {},
   "source": [
    "Ahora creemos una nueva tabla con base en `new_users`. Esta nueva tabla sólo contendrá a los usuarios de la región correcta y las fechas de inscripción."
   ]
  },
  {
   "cell_type": "code",
   "execution_count": 14,
   "metadata": {},
   "outputs": [
    {
     "data": {
      "text/html": [
       "<div>\n",
       "<style scoped>\n",
       "    .dataframe tbody tr th:only-of-type {\n",
       "        vertical-align: middle;\n",
       "    }\n",
       "\n",
       "    .dataframe tbody tr th {\n",
       "        vertical-align: top;\n",
       "    }\n",
       "\n",
       "    .dataframe thead th {\n",
       "        text-align: right;\n",
       "    }\n",
       "</style>\n",
       "<table border=\"1\" class=\"dataframe\">\n",
       "  <thead>\n",
       "    <tr style=\"text-align: right;\">\n",
       "      <th></th>\n",
       "      <th>user_id</th>\n",
       "      <th>first_date</th>\n",
       "      <th>region</th>\n",
       "      <th>device</th>\n",
       "    </tr>\n",
       "  </thead>\n",
       "  <tbody>\n",
       "    <tr>\n",
       "      <th>0</th>\n",
       "      <td>D72A72121175D8BE</td>\n",
       "      <td>2020-12-07</td>\n",
       "      <td>EU</td>\n",
       "      <td>PC</td>\n",
       "    </tr>\n",
       "    <tr>\n",
       "      <th>2</th>\n",
       "      <td>2E1BF1D4C37EA01F</td>\n",
       "      <td>2020-12-07</td>\n",
       "      <td>EU</td>\n",
       "      <td>PC</td>\n",
       "    </tr>\n",
       "    <tr>\n",
       "      <th>3</th>\n",
       "      <td>50734A22C0C63768</td>\n",
       "      <td>2020-12-07</td>\n",
       "      <td>EU</td>\n",
       "      <td>iPhone</td>\n",
       "    </tr>\n",
       "  </tbody>\n",
       "</table>\n",
       "</div>"
      ],
      "text/plain": [
       "            user_id first_date region  device\n",
       "0  D72A72121175D8BE 2020-12-07     EU      PC\n",
       "2  2E1BF1D4C37EA01F 2020-12-07     EU      PC\n",
       "3  50734A22C0C63768 2020-12-07     EU  iPhone"
      ]
     },
     "metadata": {},
     "output_type": "display_data"
    }
   ],
   "source": [
    "# Nueva tabla con los usuarios seleccionados para la prueba.\n",
    "eu_new_users = new_users[\n",
    "    (new_users['region'] == 'EU') &\n",
    "    (new_users['first_date'] >= '2020-12-07') &\n",
    "    (new_users['first_date'] <= '2020-12-21')\n",
    "].copy()\n",
    "\n",
    "# Comprobación.\n",
    "display(eu_new_users.head(3))"
   ]
  },
  {
   "cell_type": "markdown",
   "metadata": {},
   "source": [
    "Finalmente tomamos `eu_new_users` y le unimos la tabla `funnel_data`."
   ]
  },
  {
   "cell_type": "code",
   "execution_count": 15,
   "metadata": {},
   "outputs": [
    {
     "data": {
      "text/html": [
       "<div>\n",
       "<style scoped>\n",
       "    .dataframe tbody tr th:only-of-type {\n",
       "        vertical-align: middle;\n",
       "    }\n",
       "\n",
       "    .dataframe tbody tr th {\n",
       "        vertical-align: top;\n",
       "    }\n",
       "\n",
       "    .dataframe thead th {\n",
       "        text-align: right;\n",
       "    }\n",
       "</style>\n",
       "<table border=\"1\" class=\"dataframe\">\n",
       "  <thead>\n",
       "    <tr style=\"text-align: right;\">\n",
       "      <th></th>\n",
       "      <th>user_id</th>\n",
       "      <th>first_date</th>\n",
       "      <th>region</th>\n",
       "      <th>device</th>\n",
       "      <th>event_dt</th>\n",
       "      <th>event_name</th>\n",
       "      <th>details</th>\n",
       "      <th>group</th>\n",
       "      <th>ab_test</th>\n",
       "    </tr>\n",
       "  </thead>\n",
       "  <tbody>\n",
       "    <tr>\n",
       "      <th>0</th>\n",
       "      <td>D72A72121175D8BE</td>\n",
       "      <td>2020-12-07</td>\n",
       "      <td>EU</td>\n",
       "      <td>PC</td>\n",
       "      <td>2020-12-07 21:52:10</td>\n",
       "      <td>product_page</td>\n",
       "      <td>NaN</td>\n",
       "      <td>A</td>\n",
       "      <td>recommender_system_test</td>\n",
       "    </tr>\n",
       "    <tr>\n",
       "      <th>1</th>\n",
       "      <td>D72A72121175D8BE</td>\n",
       "      <td>2020-12-07</td>\n",
       "      <td>EU</td>\n",
       "      <td>PC</td>\n",
       "      <td>2020-12-07 21:52:07</td>\n",
       "      <td>login</td>\n",
       "      <td>NaN</td>\n",
       "      <td>A</td>\n",
       "      <td>recommender_system_test</td>\n",
       "    </tr>\n",
       "    <tr>\n",
       "      <th>2</th>\n",
       "      <td>DD4352CDCF8C3D57</td>\n",
       "      <td>2020-12-07</td>\n",
       "      <td>EU</td>\n",
       "      <td>Android</td>\n",
       "      <td>2020-12-07 15:32:54</td>\n",
       "      <td>product_page</td>\n",
       "      <td>NaN</td>\n",
       "      <td>B</td>\n",
       "      <td>recommender_system_test</td>\n",
       "    </tr>\n",
       "    <tr>\n",
       "      <th>3</th>\n",
       "      <td>DD4352CDCF8C3D57</td>\n",
       "      <td>2020-12-07</td>\n",
       "      <td>EU</td>\n",
       "      <td>Android</td>\n",
       "      <td>2020-12-08 08:29:31</td>\n",
       "      <td>product_page</td>\n",
       "      <td>NaN</td>\n",
       "      <td>B</td>\n",
       "      <td>recommender_system_test</td>\n",
       "    </tr>\n",
       "    <tr>\n",
       "      <th>4</th>\n",
       "      <td>DD4352CDCF8C3D57</td>\n",
       "      <td>2020-12-07</td>\n",
       "      <td>EU</td>\n",
       "      <td>Android</td>\n",
       "      <td>2020-12-10 18:18:27</td>\n",
       "      <td>product_page</td>\n",
       "      <td>NaN</td>\n",
       "      <td>B</td>\n",
       "      <td>recommender_system_test</td>\n",
       "    </tr>\n",
       "  </tbody>\n",
       "</table>\n",
       "</div>"
      ],
      "text/plain": [
       "            user_id first_date region   device            event_dt  \\\n",
       "0  D72A72121175D8BE 2020-12-07     EU       PC 2020-12-07 21:52:10   \n",
       "1  D72A72121175D8BE 2020-12-07     EU       PC 2020-12-07 21:52:07   \n",
       "2  DD4352CDCF8C3D57 2020-12-07     EU  Android 2020-12-07 15:32:54   \n",
       "3  DD4352CDCF8C3D57 2020-12-07     EU  Android 2020-12-08 08:29:31   \n",
       "4  DD4352CDCF8C3D57 2020-12-07     EU  Android 2020-12-10 18:18:27   \n",
       "\n",
       "     event_name  details group                  ab_test  \n",
       "0  product_page      NaN     A  recommender_system_test  \n",
       "1         login      NaN     A  recommender_system_test  \n",
       "2  product_page      NaN     B  recommender_system_test  \n",
       "3  product_page      NaN     B  recommender_system_test  \n",
       "4  product_page      NaN     B  recommender_system_test  "
      ]
     },
     "metadata": {},
     "output_type": "display_data"
    }
   ],
   "source": [
    "# La tabla final, con los datos de los usuarios que cumplen las condiciones y su actividad.\n",
    "eu_funnel_data = eu_new_users.merge(funnel_data, on = 'user_id', how = 'inner')\n",
    "\n",
    "display(eu_funnel_data.head())"
   ]
  },
  {
   "cell_type": "markdown",
   "metadata": {},
   "source": [
    "¿Se cumple la condición de que serían aproximadamente 6000 usuarios?"
   ]
  },
  {
   "cell_type": "code",
   "execution_count": 16,
   "metadata": {},
   "outputs": [
    {
     "name": "stdout",
     "output_type": "stream",
     "text": [
      "El número de usuarios que cumple los criterios de selección y que tuvo \n",
      "participación después de inscripción es de 3481.\n"
     ]
    }
   ],
   "source": [
    "print(f\"El número de usuarios que cumple los criterios de selección y que tuvo \\nparticipación después de inscripción es de {eu_funnel_data['user_id'].nunique()}.\")\n"
   ]
  },
  {
   "cell_type": "markdown",
   "metadata": {},
   "source": [
    "La condición no se cumple, así como tampoco se cumple la condición de tener en observación por catorce días a __todos los usuarios__ inscritos en los últimos días; esto se debe a que sólo hay datos de eventos hasta el primero de enero de 2021.\n",
    "\n",
    "Esto indica que hay usuarios que se inscribieron y no volvieron a la página o app y que probablemente hubo usuarios que se inscribieron en los últimos días y que sí volvieron dentro de los 14 días posteriores, pero no quedaron registrados porque sólo hay información hasta el primero de enero."
   ]
  },
  {
   "cell_type": "markdown",
   "metadata": {},
   "source": [
    "## Análisis exploratorio\n",
    "La tabla final está lista y empezaremos a formular hipótesis."
   ]
  },
  {
   "cell_type": "markdown",
   "metadata": {},
   "source": [
    "### Conversión en las diferentes etapas del embudo\n",
    "Vamos a familiarizarnos con el embudo. Primero veremos el embudo completo considerando solo las frecuencias totales, para tener una idea general."
   ]
  },
  {
   "cell_type": "code",
   "execution_count": 17,
   "metadata": {},
   "outputs": [
    {
     "data": {
      "image/png": "[encoded data removed]",
      "text/plain": [
       "<Figure size 800x500 with 1 Axes>"
      ]
     },
     "metadata": {},
     "output_type": "display_data"
    }
   ],
   "source": [
    "# Vamos a contar los eventos y ordenarlos de forma descendente.\n",
    "event_counts = eu_funnel_data['event_name'].value_counts().sort_values(ascending=False)\n",
    "\n",
    "# Con base en 'event_counts' hacemos un DataFrame para poder graficar con seaborn.\n",
    "event_counts_df = event_counts.reset_index()\n",
    "event_counts_df.columns = ['event', 'count']\n",
    "\n",
    "# Librerías para imprimir.\n",
    "import matplotlib.pyplot as plt\n",
    "import seaborn as sns\n",
    "\n",
    "# Representación gráfica.\n",
    "plt.figure(figsize=(8, 5))\n",
    "sns.barplot(data=event_counts_df, x='event', y='count', palette='crest')\n",
    "plt.title('Frecuencia de cada tipo de evento.')\n",
    "plt.ylabel('Frecuencia')\n",
    "plt.xlabel('Evento')\n",
    "plt.xticks(rotation=30)\n",
    "plt.tight_layout()\n",
    "plt.show()\n",
    "\n"
   ]
  },
  {
   "cell_type": "markdown",
   "metadata": {},
   "source": [
    "Podemos ver que se empieza a dibujar un embudo que nos da una idea del 'customer journey'. ¿Cómo puede haber más ventas que productos añadidos al carrito? Esto indica un _funnel_ no lineal. Podría haber botones que te permiten 'comprar ahora' sin necesidad de añadir al carrito, como en Amazon. Veamos los números."
   ]
  },
  {
   "cell_type": "code",
   "execution_count": 18,
   "metadata": {},
   "outputs": [
    {
     "name": "stdout",
     "output_type": "stream",
     "text": [
      "          event  count\n",
      "0         login  10261\n",
      "1  product_page   6340\n",
      "2      purchase   3079\n",
      "3  product_cart   2994\n"
     ]
    }
   ],
   "source": [
    "print(event_counts_df)"
   ]
  },
  {
   "cell_type": "markdown",
   "metadata": {},
   "source": [
    "Para comprobar esta hipótesis de un _funnel_ no lineal, podemos imprimir el los usuarios con compras, pero sin visita al carrito. Si hay muchos, podemos confirmar que una visita al carrito de compras no es necesario para comprar."
   ]
  },
  {
   "cell_type": "code",
   "execution_count": 19,
   "metadata": {},
   "outputs": [
    {
     "name": "stdout",
     "output_type": "stream",
     "text": [
      "Número de usuarios con compra pero sin carrito es de 746.\n"
     ]
    }
   ],
   "source": [
    "# Usuarios que hicieron purchase\n",
    "users_with_purchase = eu_funnel_data[eu_funnel_data['event_name'] == 'purchase']['user_id'].unique()\n",
    "\n",
    "# Usuarios que hicieron product_cart\n",
    "users_with_cart = eu_funnel_data[eu_funnel_data['event_name'] == 'product_cart']['user_id'].unique()\n",
    "\n",
    "# Pasamos a listas para comparar\n",
    "users_with_purchase = list(users_with_purchase)\n",
    "users_with_cart = list(users_with_cart)\n",
    "\n",
    "# Creamos un DataFrame con los que compraron\n",
    "purchase_df = pd.DataFrame({'user_id': users_with_purchase, 'purchase': 1})\n",
    "\n",
    "# Creamos un DataFrame con los que hicieron carrito\n",
    "cart_df = pd.DataFrame({'user_id': users_with_cart, 'cart': 1})\n",
    "\n",
    "# Unimos los dos para ver si hay compras sin carrito\n",
    "merged = purchase_df.merge(cart_df, on='user_id', how='left')\n",
    "\n",
    "# Filtramos: usuarios que tienen purchase pero no cart\n",
    "only_purchase = merged[merged['cart'].isna()]\n",
    "\n",
    "print(f\"Número de usuarios con compra pero sin carrito es de {only_purchase.shape[0]}.\")\n"
   ]
  },
  {
   "cell_type": "markdown",
   "metadata": {},
   "source": [
    "El _customer journey_ es diferente a lo que uno podría esperar. No es lineal. Con base en esta información, vamos a hacer un embudo de la secuencia de eventos que el equipo que abandonó el proyecto propuso: `product_page` → `product_cart` → `purchase`. Haremos un embudo para cada grupo."
   ]
  },
  {
   "cell_type": "code",
   "execution_count": 20,
   "metadata": {},
   "outputs": [
    {
     "name": "stdout",
     "output_type": "stream",
     "text": [
      "Grupo A\n",
      "Vieron página de producto: 1685\n",
      "Llegaron a carrito: 149\n",
      "Compraron: 0\n",
      "\n",
      "Grupo B\n",
      "Vieron página de producto: 493\n",
      "Llegaron a carrito: 49\n",
      "Compraron: 1\n"
     ]
    }
   ],
   "source": [
    "# Embudo del grupo A.\n",
    "users_A = eu_funnel_data[eu_funnel_data['group'] == 'A'].pivot_table(\n",
    "    index='user_id',\n",
    "    columns='event_name',\n",
    "    values='event_dt',\n",
    "    aggfunc='min'\n",
    ")\n",
    "\n",
    "for col in ['product_page', 'product_cart', 'purchase']:\n",
    "    if col not in users_A.columns:\n",
    "        users_A[col] = pd.NaT\n",
    "\n",
    "step_1_A = ~users_A['product_page'].isna()\n",
    "step_2_A = step_1_A & (users_A['product_cart'] > users_A['product_page'])\n",
    "step_3_A = step_2_A & (users_A['purchase'] > users_A['product_cart'])\n",
    "\n",
    "n_page_A = users_A[step_1_A].shape[0]\n",
    "n_cart_A = users_A[step_2_A].shape[0]\n",
    "n_buy_A  = users_A[step_3_A].shape[0]\n",
    "\n",
    "print(\"Grupo A\")\n",
    "print(\"Vieron página de producto:\", n_page_A)\n",
    "print(\"Llegaron a carrito:\", n_cart_A)\n",
    "print(\"Compraron:\", n_buy_A)\n",
    "print()\n",
    "\n",
    "\n",
    "# Embudo del grupo B.\n",
    "users_B = eu_funnel_data[eu_funnel_data['group'] == 'B'].pivot_table(\n",
    "    index='user_id',\n",
    "    columns='event_name',\n",
    "    values='event_dt',\n",
    "    aggfunc='min'\n",
    ")\n",
    "\n",
    "for col in ['product_page', 'product_cart', 'purchase']:\n",
    "    if col not in users_B.columns:\n",
    "        users_B[col] = pd.NaT\n",
    "\n",
    "step_1_B = ~users_B['product_page'].isna()\n",
    "step_2_B = step_1_B & (users_B['product_cart'] > users_B['product_page'])\n",
    "step_3_B = step_2_B & (users_B['purchase'] > users_B['product_cart'])\n",
    "\n",
    "n_page_B = users_B[step_1_B].shape[0]\n",
    "n_cart_B = users_B[step_2_B].shape[0]\n",
    "n_buy_B  = users_B[step_3_B].shape[0]\n",
    "\n",
    "print(\"Grupo B\")\n",
    "print(\"Vieron página de producto:\", n_page_B)\n",
    "print(\"Llegaron a carrito:\", n_cart_B)\n",
    "print(\"Compraron:\", n_buy_B)\n"
   ]
  },
  {
   "cell_type": "markdown",
   "metadata": {},
   "source": [
    "Parece que la afirmación de que habrá al menos un 10% de aumento en conversión siguiendo la secuencia propuesta es incorrecta. Veamos las proporciones."
   ]
  },
  {
   "cell_type": "code",
   "execution_count": 21,
   "metadata": {},
   "outputs": [
    {
     "name": "stdout",
     "output_type": "stream",
     "text": [
      "Grupo A\n",
      "La proporción de usuarios que pasaron de product_page a product_cart fue de 8.84%.\n",
      "\n",
      "La proporción de usuarios que pasaron de product_cart a purchase fue de 0.00%.\n",
      "\n",
      "La proporción de usuarios que pasaron de product_page a purchase (sin pasar por el carrito) fue de 0.00%.\n",
      "\n",
      "\n",
      "\n",
      "Grupo B\n",
      "La proporción de usuarios que pasaron de product_page a product_cart fue de 9.94%.\n",
      "\n",
      "La proporción de usuarios que pasaron de product_cart a purchase fue de 2.04%.\n",
      "\n",
      "La proporción de usuarios que pasaron de product_page a purchase (sin pasar por el carrito) fue de 0.20%.\n"
     ]
    }
   ],
   "source": [
    "# Grupo A.\n",
    "print('Grupo A')\n",
    "print(f\"La proporción de usuarios que pasaron de product_page a product_cart fue de {n_cart_A/n_page_A:.2%}.\")\n",
    "print()\n",
    "print(f\"La proporción de usuarios que pasaron de product_cart a purchase fue de {n_buy_A/n_cart_A:.2%}.\")\n",
    "print()\n",
    "print(f\"La proporción de usuarios que pasaron de product_page a purchase (sin pasar por el carrito) fue de {n_buy_A/n_page_A:.2%}.\")\n",
    "print()\n",
    "print()\n",
    "print()\n",
    "# Grupo B.\n",
    "print('Grupo B')\n",
    "print(f\"La proporción de usuarios que pasaron de product_page a product_cart fue de {n_cart_B/n_page_B:.2%}.\")\n",
    "print()\n",
    "print(f\"La proporción de usuarios que pasaron de product_cart a purchase fue de {n_buy_B/n_cart_B:.2%}.\")\n",
    "print()\n",
    "print(f\"La proporción de usuarios que pasaron de product_page a purchase (sin pasar por el carrito) fue de {n_buy_B/n_page_B:.2%}.\")\n"
   ]
  },
  {
   "cell_type": "markdown",
   "metadata": {},
   "source": [
    "La afirmación es definitivamente incorrecta. Si bien hay una diferencia entre los grupos al seguir la secuencia propuesta, es mucho menor: 2.04%."
   ]
  },
  {
   "cell_type": "markdown",
   "metadata": {},
   "source": [
    "### ¿El número de eventos por usuario está distribuido equitativamente entre las muestras?\n",
    "Si se trata de ver distribuciones, nada mejor que un gráfico. Grafiquemos a través de un diagrama de caja."
   ]
  },
  {
   "cell_type": "code",
   "execution_count": 22,
   "metadata": {},
   "outputs": [
    {
     "data": {
      "image/png": "[encoded data removed]",
      "text/plain": [
       "<Figure size 800x500 with 1 Axes>"
      ]
     },
     "metadata": {},
     "output_type": "display_data"
    }
   ],
   "source": [
    "# Eventos agrupados.\n",
    "events_per_user = (\n",
    "    eu_funnel_data\n",
    "    .groupby(['group', 'user_id'])\n",
    "    .size()\n",
    "    .reset_index(name='events_count')\n",
    ")\n",
    "\n",
    "# Gráfica de la distribución de eventos.\n",
    "import seaborn as sns\n",
    "import matplotlib.pyplot as plt\n",
    "\n",
    "plt.figure(figsize=(8,5))\n",
    "sns.boxplot(data=events_per_user, x='group', y='events_count', palette='crest')\n",
    "plt.title(\"Eventos por usuario en cada grupo.\")\n",
    "plt.ylabel('Frecuencia')\n",
    "plt.xlabel('Grupo')\n",
    "plt.show()\n"
   ]
  },
  {
   "cell_type": "markdown",
   "metadata": {},
   "source": [
    "El número de eventos sí está distribuido de manera equitativa en ambos grupos. ¿Será que el número de usuarios en cada grupo es el mismo?"
   ]
  },
  {
   "cell_type": "code",
   "execution_count": 23,
   "metadata": {},
   "outputs": [
    {
     "name": "stdout",
     "output_type": "stream",
     "text": [
      "Número de usuarios únicos por grupo:\n",
      "group\n",
      "A    2604\n",
      "B     877\n",
      "Name: user_id, dtype: int64\n"
     ]
    }
   ],
   "source": [
    "# Usuarios únicos por grupo en el rango de fechas válidas\n",
    "users_by_group = eu_funnel_data.groupby('group')['user_id'].nunique().sort_index()\n",
    "\n",
    "print(\"Número de usuarios únicos por grupo:\")\n",
    "print(users_by_group)\n"
   ]
  },
  {
   "cell_type": "markdown",
   "metadata": {},
   "source": [
    "Hay un desbalance importante entre el número de usuarios."
   ]
  },
  {
   "cell_type": "markdown",
   "metadata": {},
   "source": [
    "### ¿Hay usuarios que están presentes en ambas muestras?\n",
    "Hora de comprobar si hay usuarios duplicados."
   ]
  },
  {
   "cell_type": "code",
   "execution_count": 24,
   "metadata": {},
   "outputs": [
    {
     "name": "stdout",
     "output_type": "stream",
     "text": [
      "Número de usuarios que aparecen en más de un grupo es de 0.\n"
     ]
    }
   ],
   "source": [
    "# Número de usuarios único por grupo.\n",
    "users_per_group = eu_funnel_data.groupby('user_id')['group'].nunique()\n",
    "\n",
    "# Usuarios que aparecen en más de un grupo.\n",
    "users_per_group = users_per_group[users_per_group > 1].count()\n",
    "\n",
    "print(f\"Número de usuarios que aparecen en más de un grupo es de {users_per_group}.\")\n"
   ]
  },
  {
   "cell_type": "markdown",
   "metadata": {},
   "source": [
    "No hay usuarios en ambos grupos. Nuestras muestras son independientes."
   ]
  },
  {
   "cell_type": "markdown",
   "metadata": {},
   "source": [
    "### ¿Cómo se distribuye el número de eventos entre los días?\n",
    "Descubramos la distribución de los eventos entre los días usando un histograma. Con base en la columna `'event_dt'` obtendré una columna que sólo contenga la fecha. Se llamará `'date'`. Mostraremos la distribución de ambos grupos."
   ]
  },
  {
   "cell_type": "code",
   "execution_count": 25,
   "metadata": {},
   "outputs": [
    {
     "data": {
      "image/png": "[encoded data removed]",
      "text/plain": [
       "<Figure size 1400x600 with 1 Axes>"
      ]
     },
     "metadata": {},
     "output_type": "display_data"
    }
   ],
   "source": [
    "# Crear columna 'date' si no existe\n",
    "eu_funnel_data['date'] = eu_funnel_data['event_dt'].dt.date\n",
    "\n",
    "# Histograma con separación por grupo\n",
    "plt.figure(figsize=(14, 6))\n",
    "sns.histplot(\n",
    "    data=eu_funnel_data,\n",
    "    x='date',\n",
    "    hue='group',              # separación A vs B\n",
    "    multiple='stack',         # apilado para ver total y composición\n",
    "    bins=len(eu_funnel_data['date'].unique()),\n",
    "    palette='crest'\n",
    ")\n",
    "\n",
    "plt.title('Número de eventos por día (separado por grupo)', fontsize=14)\n",
    "plt.xlabel('Fecha')\n",
    "plt.ylabel('Cantidad de eventos')\n",
    "\n",
    "\n",
    "\n",
    "\n",
    "plt.tight_layout()\n",
    "plt.show()\n"
   ]
  },
  {
   "cell_type": "markdown",
   "metadata": {},
   "source": [
    "La mayor actividad se concentró en la parte media de los días. El pico más alto ocurré alrededor del 20-21 de diciembre. En Navidad no hubo actividades. Como era de esperarse, los eventos del grupo B son menos, pues se trata de un grupo considerablemente más pequeño. Además el comportamiento no fue uniforme."
   ]
  },
  {
   "cell_type": "markdown",
   "metadata": {},
   "source": [
    "### ¿Hay alguna peculiaridad en los datos que hay que tener en cuenta antes de iniciar la prueba A/B?\n",
    "No hay una sola peculiaridad. Hay muchas y las vamos a numerar:\n",
    "\n",
    "1. El tamaño de la muestra es muy desequilibrado.\n",
    "2. El periodo de observación está incompleto. Los usuarios que se inscribieron en los últimos días no tienen registros de 14 días porque sólo hay datos hasta el primero de enero.\n",
    "3. El embudo no es lineal, pero el equipo que hizo la prueba propuso un _customer journey_ que no es representativo de la experiencia de los usuarios al comprar.\n",
    "4. La conversión fue bajísima. No se acerca el 10% de aumento por etapa que afirmó el grupo que desarrolló la prueba.\n",
    "5. La prueba se hizo las últimas semanas del año. En fechas como éstas, muchas circunstancias ajenas al nuevo sistema de recomendación podrían alterar la conducta de los usuarios.\n",
    "6. Incluso con pruebas estadísticas que afirmen una diferencia considerable en las conversiones de los grupos, la validez del experimento queda en entredicho."
   ]
  },
  {
   "cell_type": "markdown",
   "metadata": {},
   "source": [
    "## Evaluación de los resultados de la prueba A/B\n",
    "Para terminar nuestro análisis, vamos a desarrollar una prueba z."
   ]
  },
  {
   "cell_type": "markdown",
   "metadata": {},
   "source": [
    "### Prueba z para comprobar la diferencia entre las proporciones"
   ]
  },
  {
   "cell_type": "code",
   "execution_count": 26,
   "metadata": {},
   "outputs": [
    {
     "name": "stdout",
     "output_type": "stream",
     "text": [
      "El valor p es 0.0465.\n",
      "\n",
      "Hay una diferencia estadísticamente significativa entre los grupos A y B.\n"
     ]
    }
   ],
   "source": [
    "# Importamos la prueba Z\n",
    "from statsmodels.stats.proportion import proportions_ztest\n",
    "\n",
    "# Nivel de significación\n",
    "alpha = 0.05\n",
    "\n",
    "# Usuarios que hicieron 'purchase' por grupo.\n",
    "purchase_by_group = eu_funnel_data[eu_funnel_data['event_name'] == 'purchase'].groupby('group')['user_id'].nunique()\n",
    "\n",
    "# Total de usuarios únicos por grupo\n",
    "total_users_by_group = eu_funnel_data.groupby('group')['user_id'].nunique()\n",
    "\n",
    "# Éxitos o pagos exitosos.\n",
    "successes = [purchase_by_group.loc['A'], purchase_by_group.loc['B']]\n",
    "\n",
    "# Observaciones totales.\n",
    "n_obs = [total_users_by_group.loc['A'], total_users_by_group.loc['B']]\n",
    "\n",
    "# Prueba Z\n",
    "z_stat, p_val = proportions_ztest(count=successes, nobs=n_obs)\n",
    "\n",
    "print(f'El valor p es {p_val:.4f}.\\n')\n",
    "\n",
    "if p_val < alpha:\n",
    "    print(\"Hay una diferencia estadísticamente significativa entre los grupos A y B.\")\n",
    "else:\n",
    "    print(\"No hay una diferencia estadísticamente significativa entre los grupos A y B.\")\n"
   ]
  },
  {
   "cell_type": "markdown",
   "metadata": {},
   "source": [
    "La prueba z afirma que hay una diferencia significativa entre los grupos, pero la prueba tiene problemas serios de ejecución y diseño."
   ]
  },
  {
   "cell_type": "markdown",
   "metadata": {},
   "source": [
    "## Conclusiones finales\n",
    "- La prueba presentó limitaciones en el diseño y ejecución. El tamaño de muestra esperado fue considerablemente menor, los grupos estaban desequilibrados y ventana de observación estaba incompleta.  \n",
    "- El embudo no fue estrictamente lineal, ya que se registraron compras sin pasar por el carrito.  \n",
    "- Las tasas de conversión fueron bajas en todas las etapas; el grupo B mostró ligeras mejoras, pero muy lejos del 10% afirmado.  \n",
    "- La prueba z afirma que 'Hay una diferencia estadísticamente significativa entre los grupos A y B', pero después de analizar la prueba y dejar claros sus errores de diseño, ¿podríamos afirmar que el nuevo sistema de recomendaciones tuvo un impacto real en la conversión?\n",
    "- La prueba fue desarrollada en las últimas semanas de diciembre. Las ventas de toda compañía son diferentes en esas fechas. Se debe considerar la estacionalidad.\n",
    "\n",
    "En conclusión, el experimento no podría validar la hipótesis de que el nuevo sistema de recomendaciones mejora la conversión. Hay tantos errores en la ejecución que múltiples factores ajenos podrían haber influido en la prueba. La prueba está mal desarrollada. A pesar de que la prueba z afirme una 'diferencia estadísticamente significativa' entre los grupos, las limitaciones del experimento son demasiadas y nos quedamos muy lejos de un aumento del 10%.\n"
   ]
  }
 ],
 "metadata": {
  "kernelspec": {
   "display_name": "Python 3 (ipykernel)",
   "language": "python",
   "name": "python3"
  },
  "language_info": {
   "codemirror_mode": {
    "name": "ipython",
    "version": 3
   },
   "file_extension": ".py",
   "mimetype": "text/x-python",
   "name": "python",
   "nbconvert_exporter": "python",
   "pygments_lexer": "ipython3",
   "version": "3.9.23"
  }
 },
 "nbformat": 4,
 "nbformat_minor": 4
}
